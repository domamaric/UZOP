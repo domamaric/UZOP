{
 "cells": [
  {
   "cell_type": "markdown",
   "id": "315d1525-4688-4fcd-85c5-4aafb0581b19",
   "metadata": {},
   "source": [
    "# Praktična programska pitanja vezana uz skupove podataka\n",
    "\n",
    "## 1. Zadatak\n",
    "Skup podataka „Estonia“ sadrži zemlju podrijetla, ime, spol (M - muški, F - ženski),\n",
    "godine, kategoriju (P - putnik, C - posada) i sudbinu (0 - poginuo, 1 - preživio) za 742\n",
    "putnika na brodu MS Estonia u noći potonuća. Za ovaj skup podataka (estoniapassenger-list_modified.csv) odredite:"
   ]
  },
  {
   "cell_type": "markdown",
   "id": "6dfe0f43-2dfd-4e5d-94dc-0e459c56dba6",
   "metadata": {},
   "source": [
    "a) (1 bod) Kako biste klasificirali zadani izvor podataka prema strukturi?"
   ]
  },
  {
   "cell_type": "markdown",
   "id": "c6e21dbd-3715-4565-8c54-939966142abd",
   "metadata": {},
   "source": [
    "\n",
    "**Odgovor:** "
   ]
  },
  {
   "cell_type": "markdown",
   "id": "1399fa9f-9d53-491a-93f0-14456279baa7",
   "metadata": {},
   "source": [
    "b) (1 bod) Objasnite o kojoj se vrsti istraživanja prema vrsti korištenih podataka\n",
    "ovdje radi."
   ]
  },
  {
   "cell_type": "markdown",
   "id": "272999cf-0087-4198-99b6-2419524e77cc",
   "metadata": {},
   "source": [
    "**Odgovor:** "
   ]
  },
  {
   "cell_type": "markdown",
   "id": "73d40044-6d23-4402-834a-6f8ef274e573",
   "metadata": {},
   "source": [
    "c) (1 bod) Objasnite radi li se ovdje o studiji presjeka ili o longitudinalnom\n",
    "istraživanju."
   ]
  },
  {
   "cell_type": "markdown",
   "id": "9869c5bd-2ffd-4b13-a3fd-800548fa2a9d",
   "metadata": {},
   "source": [
    "**Odgovor:** "
   ]
  },
  {
   "cell_type": "markdown",
   "id": "6e687fcf-b3d3-495a-81c8-53139970620e",
   "metadata": {},
   "source": [
    "d) (2 boda) Kako je u ovo istraživanje uključen slučajan podskup od 742 putnika (od\n",
    "ukupnog broja od 989 putnika), radi li se o slučajnom, pristranom ili neslučajnom\n",
    "uzorku? Objasnite svoj odgovor. Definirajte svaki od navedenih vrsta uzoraka."
   ]
  },
  {
   "cell_type": "markdown",
   "id": "66011386-a11e-4ea6-93e0-3ace483af036",
   "metadata": {},
   "source": [
    "**Odgovor:** "
   ]
  },
  {
   "cell_type": "markdown",
   "id": "a08adbf3-7fd4-4c5d-b7d0-9118c77cf69c",
   "metadata": {},
   "source": [
    "e) (2 boda) Izbacite značajke “PassenderId”, “Firstname” i “Lastname”. Za svaku od\n",
    "značajki “Country”, “Sex” i “Category” iskoristite odgovarajuću metodu\n",
    "pretvorbe (engl. encoder) kako biste kategoričke podatke transformirali u\n",
    "numeričke vrijednosti."
   ]
  },
  {
   "cell_type": "markdown",
   "id": "3f0eca39-f5ab-41d7-8337-aa58bcd1fe99",
   "metadata": {},
   "source": [
    "**Odgovor:** "
   ]
  },
  {
   "cell_type": "markdown",
   "id": "351253d9-2a46-4b9b-99f7-ae051f0829cc",
   "metadata": {},
   "source": [
    "f) (2 boda) Provedite zamjenu nedostajućih vrijednosti značajke “Age” mjerom\n",
    "očuvanja sredine. Pojasnite koju mjeru sredine koristite i zašto."
   ]
  },
  {
   "cell_type": "markdown",
   "id": "81ec36ea-b182-4c4d-a789-870145cc7c30",
   "metadata": {},
   "source": [
    "**Odgovor:**"
   ]
  },
  {
   "cell_type": "markdown",
   "id": "19224ee3-6c3a-42ab-9a2e-1df18d4702bd",
   "metadata": {},
   "source": [
    "g) (2 boda) Provjerite prikladnim prikazom je li distribucija značajke “Age”\n",
    "simetrična. Ako nije, objasnite o kojoj se vrsti asimetričnosti radi."
   ]
  },
  {
   "cell_type": "markdown",
   "id": "d4f0c207-24cf-4f93-bd85-ab01c0682150",
   "metadata": {},
   "source": [
    "**Odgovor:**"
   ]
  },
  {
   "cell_type": "markdown",
   "id": "8696adc8-37bf-4f61-ba90-fb062db6a71f",
   "metadata": {},
   "source": [
    "h) (4 boda) Provedite postupak DBSCAN kako biste otkrili stršeće vrijednosti u ovom\n",
    "skupu podataka ne uzimajući u obzir ciljnu značajku (“Survived”). Po potrebi\n",
    "varirajte parametre algoritma te na temelju odgovora algoritma provjerite\n",
    "naznačene pojedince. Navedite redne brojeve stršećih podataka."
   ]
  },
  {
   "cell_type": "markdown",
   "id": "7c66e8bb-3232-4a51-8507-48ca5e235c2c",
   "metadata": {},
   "source": [
    "**Odgovor:**"
   ]
  },
  {
   "cell_type": "markdown",
   "id": "acfb8d83-c941-42bc-b1d4-a5e866c10144",
   "metadata": {},
   "source": [
    "(3 boda) Provjerite mogu li se stršeće vrijednosti otkriti koristeći samo metode\n",
    "vizualizacije podataka. Pritom primijenite prikladni graf za njihovo otkrivanje.\n",
    "Koji graf koji ste isprobali daje najbolji prikaz stršećih vrijednosti?i) "
   ]
  },
  {
   "cell_type": "markdown",
   "id": "5ded1b0b-2098-4c0b-bcda-265036b133ea",
   "metadata": {},
   "source": [
    "**Odgovor:**"
   ]
  },
  {
   "cell_type": "markdown",
   "id": "ef7736e4-4bb7-475e-aedd-1f5713f49388",
   "metadata": {},
   "source": [
    "j) (4 boda) Korištenjem prikladnog algoritma nadziranog strojnog učenja s jasnim\n",
    "tumačenjem ustanovite koja zemlja je bila najsretnija pri preživljavanju. Navedite\n",
    "o kojoj zemlji se radi i gdje u modelu se ta činjenica vidi. Pritom model učite na\n",
    "slučajno izdvojenih 67% podataka, a testirajte na preostalom skupu."
   ]
  },
  {
   "cell_type": "markdown",
   "id": "18f3931c-1775-4763-8479-4a165f0716a1",
   "metadata": {},
   "source": [
    "**Odgovor:**"
   ]
  },
  {
   "cell_type": "markdown",
   "id": "67c2bd64-c9b2-4680-8ce3-78e6be17fef6",
   "metadata": {},
   "source": [
    "## 2. Zadatak\n",
    "\n",
    "Skup podataka „Possum“ sadrži podatke o 104 planinska četkasta oposuma pronađena\n",
    "na sedam lokacija u Australiji: redni broj oposuma, oznaku lokacije gdje je pronađen\n",
    "oposum, populaciju (Vic – Victoria, other – Novi Južni Wales ili Queensland), spol (M -\n",
    "muški, F – ženski), dob, duljina glave u mm, širina lubanje u mm, ukupna duljina u cm,\n",
    "duljina repa u cm, duljina stopala u mm, duljina ušne školjke u mm, udaljenost od\n",
    "medijalnog kantusa do lateralnog kantusa desnog oka u mm, obujam prsa u cm i opseg\n",
    "trbuha u cm. Za ovaj skup podataka (possum.csv) odredite:"
   ]
  },
  {
   "cell_type": "markdown",
   "id": "7ee761b4-3c70-47e8-8bda-99493f946317",
   "metadata": {},
   "source": [
    "a) (3 boda) Navedite metode prikupljanja podataka. Koja od navedenih metoda je\n",
    "mogla biti upotrijebljena prilikom stvaranja ovog skupa podataka? Objasnite."
   ]
  },
  {
   "cell_type": "markdown",
   "id": "7ad97e02-c9b0-47c9-a781-5aa04d450e06",
   "metadata": {},
   "source": [
    "b) (3 boda) Kako možemo ukloniti statistički redundantne (nebitne) značajke?\n",
    "Primjenom odgovarajuće metode utvrdite postoje li takve numeričke značajke u\n",
    "ovom skupu i uklonite ih."
   ]
  },
  {
   "cell_type": "markdown",
   "id": "e350c356-ce92-4a62-b599-e0b974946b9c",
   "metadata": {},
   "source": [
    "c) (4 boda) Za preostale numeričke značajke iz prethodnog dijela zadatka provedite\n",
    "standardizaciju z-vrijednosti (z-skor) te potom primijenite grupiranje postupkom\n",
    "k-srednjih vrijednosti (engl. k-means, uz variranje hiperparametra k između 1 i 5).\n",
    "Pritom prikažite grupiranja primjeraka u dvije dimenzije za parove varijabli iz\n",
    "skupa “eye“, “chest“ i “belly“. Uočavaju li se grupe? Na što treba obratiti\n",
    "pozornost pri primjeni algoritma k-srednjih vrijednosti?"
   ]
  },
  {
   "cell_type": "markdown",
   "id": "e5dccd4e-a268-4fc1-9f9a-d55ad80ad9fa",
   "metadata": {},
   "source": [
    "d) (2 boda) Izračunajte srednju vrijednost, standardnu devicijaciju i interkvartalno\n",
    "raspršenje za sve numeričke značajke u ovom skupu. Vizualizirajte ih na istom\n",
    "grafu koristeći kutijasti graf (engl. box plot)."
   ]
  },
  {
   "cell_type": "markdown",
   "id": "9de6dea9-ff5b-47b5-8755-84baded90ee0",
   "metadata": {},
   "source": [
    "e) (5 bodova) Modelirajte varijablu “totlngth” na temelju ostalih numeričkih\n",
    "varijabli u skupu koristeći višestruku linearnu regresiju pri čemu je prethodno\n",
    "potrebno standardizirati prediktorske varijable. Prikažite rezultate modela. Koje\n",
    "su pretpostavke korištenja linearnog regresijskog modela?"
   ]
  },
  {
   "cell_type": "markdown",
   "id": "0d6eebb9-6e3d-4386-850c-1bc9b6b772af",
   "metadata": {},
   "source": [
    "f) (2 boda) Definirajte srednju kvadratnu pogrešku i primijenite ju na model iz\n",
    "prethodnog pitanja koji se ispituje na izdvojenom testnom skupu – slučajnih 30%\n",
    "primjeraka skupa."
   ]
  },
  {
   "cell_type": "markdown",
   "id": "dc750aec-9c38-4005-bbf6-9a8495bd1f40",
   "metadata": {},
   "source": [
    "## 3. Zadatak\n",
    "\n",
    "EuroSAT (eurosat.zip) je skup satelitskih RGB slika dimenzija 64x64 koje su raspoređene\n",
    "u deset klasa ovisno o tome što je na njima prikazano (urbana područja, šume, polja, …).\n",
    "Vaš zadatak je složiti model dubokog učenja i naučiti ga na danom skupu podataka.\n",
    "Prikažite implementirani kod."
   ]
  },
  {
   "cell_type": "markdown",
   "id": "3506f831-c5e5-43d9-bc13-9a9f210065b4",
   "metadata": {},
   "source": [
    "a) (1 bod) Jedan od prvih koraka u pripremi slika za duboko učenje je njihova\n",
    "anotacija. Objasnite što je anotirano u danom skupu slika."
   ]
  },
  {
   "cell_type": "markdown",
   "id": "c0d7897c-3a07-4666-a0ac-03ade97d96e2",
   "metadata": {},
   "source": [
    "b) (2 boda) Učitajte dani skup podataka i podijelite ga na skup za učenje i skup za\n",
    "testiranje. Za samo učitavanje podataka možete iskoristiti već implementirani\n",
    "razred `torch.utils.data.Dataset`."
   ]
  },
  {
   "cell_type": "code",
   "execution_count": null,
   "id": "b11e7f86-71b4-464e-8a83-7712182c7f67",
   "metadata": {},
   "outputs": [],
   "source": [
    "class EuroSATDataset(Dataset):\n",
    "  def __init__(self, data_dir):\n",
    "    self.instances = []\n",
    "\n",
    "    curr_label = -1\n",
    "    for subdir, _, files in os.walk(data_dir):\n",
    "      if curr_label < 0:\n",
    "        curr_label += 1\n",
    "        continue\n",
    "\n",
    "      for file in files:\n",
    "        if file.endswith('.jpg'):\n",
    "          self.instances.append((os.path.join(subdir, file), curr_label))\n",
    "      curr_label += 1\n",
    "\n",
    "  def __len__(self):\n",
    "    return len(self.instances)\n",
    "\n",
    "  def __getitem__(self, idx):\n",
    "    image = read_image(self.instances[idx][0]) / 255.0\n",
    "    label = self.instances[idx][1]\n",
    "\n",
    "    return image, label"
   ]
  },
  {
   "cell_type": "code",
   "execution_count": null,
   "id": "89601083-a969-46ff-933b-de9556d85c89",
   "metadata": {},
   "outputs": [],
   "source": [
    "dataset = EuroSATDataset(\"./data_dir\")"
   ]
  },
  {
   "cell_type": "markdown",
   "id": "858e1521-d2d2-4d85-88f9-b5ce869cd88b",
   "metadata": {},
   "source": [
    "c) (3 boda) Složite model (bilo kakav) kojim ćete izvršiti klasifikaciju danih slika."
   ]
  },
  {
   "cell_type": "markdown",
   "id": "4318dfdb-5c6b-48d4-b2ca-41c626536f26",
   "metadata": {},
   "source": [
    "d) (3 boda) Prikažite matricu zabune. Izračunajte točnost, preciznost, odziv (recall) i\n",
    "F1-mjeru (engl. F1-score). Objasnite dobivene rezultate i uspješnost modela\n",
    "kojeg ste upotrijebili."
   ]
  },
  {
   "cell_type": "markdown",
   "id": "5b7e5e7b-248f-476c-89bf-984f54f10b58",
   "metadata": {},
   "source": [
    "e) (5 bodova) Napišite funkciju za učenje modela i naučite implementirani model\n",
    "(dovoljno je da model naučite na samo jednoj epohi => num_epochs=1). Ispišite\n",
    "iznos funkcije gubitka i točnost vašeg modela na testnom skupu podataka."
   ]
  },
  {
   "cell_type": "markdown",
   "id": "b5793c9c-e0ab-4bac-b1a7-ecae3b2322d9",
   "metadata": {},
   "source": [
    "# Dodatna teorijska pitanja"
   ]
  },
  {
   "cell_type": "markdown",
   "id": "129b5fbe-9e28-446a-88ce-9c4e0840417e",
   "metadata": {},
   "source": [
    "## 4. Zadatak\n",
    "\n",
    "Marko je pri učenju primjetio da mu se model dosta lagano prenauči i stoga je\n",
    "odlučio uvesti određene metode regularizacije. Točnije, odlučio je koristiti dropout i to\n",
    "na takav način da bi poredao više dropout slojeva jedan za drugim:"
   ]
  },
  {
   "cell_type": "code",
   "execution_count": null,
   "id": "bd2cafb2-0817-4106-afc4-5451d3d929e8",
   "metadata": {},
   "outputs": [],
   "source": [
    "def Model(nn.Module):\n",
    "    def __init__(self, . . .):\n",
    "        # ... other code ...\n",
    "        self.dropout1 = nn.Dropout(p=0.1)\n",
    "        self.dropout2 = nn.Dropout(p=0.15)\n",
    "        self.dropout3 = nn.Dropout(p=0.2)\n",
    "        # ... other code\n",
    "    def forward(self, x):\n",
    "        # ... other code ...\n",
    "        x = self.dropout1(x)\n",
    "        x = self.dropout2(x)\n",
    "        x = self.dropout3(x)\n",
    "        # ... other code ..."
   ]
  },
  {
   "cell_type": "markdown",
   "id": "24a95583-ccff-4591-a114-ea49ebd50f88",
   "metadata": {},
   "source": [
    "Ima li ovakvo redanje dropout slojeva smisla? Je li moguće postići isti regularizacijski\n",
    "učinak s manje linija koda? Obrazložite svoj odgovor i modificirajte Markov kod!"
   ]
  },
  {
   "cell_type": "code",
   "execution_count": null,
   "id": "4a8dcdb2-37d1-436e-a9bd-0e7682662327",
   "metadata": {},
   "outputs": [],
   "source": []
  },
  {
   "cell_type": "markdown",
   "id": "dea74ed3-9219-4c6d-8ee8-f47f683f831c",
   "metadata": {},
   "source": [
    "## 5. Zadatak\n",
    "\n",
    "Osim primjene metode očuvanja mjere sredine, koje ste još postupke mogli primijeniti za zamjenu nedostajuće vrijednosti nekom drugom u 1. zadatku?"
   ]
  },
  {
   "cell_type": "markdown",
   "id": "f37f7e3f-3bb2-4b86-9131-c14df9b79e7f",
   "metadata": {},
   "source": [
    "**Odgovor:**"
   ]
  },
  {
   "cell_type": "markdown",
   "id": "0128b509-6046-4519-b92e-fb129e0fc898",
   "metadata": {},
   "source": [
    "## 6. Zadatak\n",
    "\n",
    "Objasnite princip učenja značajki (engl. feature learning, representation learning) u kontekstu ekspertnih značajki i ulaznih podataka."
   ]
  },
  {
   "cell_type": "markdown",
   "id": "2f3f2338-320a-41a3-ad90-af97970588ad",
   "metadata": {},
   "source": [
    "**Odgovor:**"
   ]
  },
  {
   "cell_type": "markdown",
   "id": "5954aaf5-e602-4f83-8e48-0e413c82be34",
   "metadata": {},
   "source": [
    "## 7. Zadatak\n",
    "\n",
    "Objasnite koja je razlika između reziduala i pogreške kod regresije. "
   ]
  },
  {
   "cell_type": "markdown",
   "id": "a6798039-8f6b-4a41-8846-b421f9128875",
   "metadata": {},
   "source": [
    "**Odgovor:**"
   ]
  },
  {
   "cell_type": "markdown",
   "id": "0a26a294-23c3-4a78-989a-e4041695fb68",
   "metadata": {},
   "source": [
    "## 8. Zadatak\n",
    "\n",
    " Što testiramo hi-kvadrat testom, kakve frekvencije koristimo u izračunu hikvadrat vrijednosti?"
   ]
  },
  {
   "cell_type": "markdown",
   "id": "d4e2824f-5b54-4e84-9d80-f483af3d2c0d",
   "metadata": {},
   "source": [
    "**Odgovor:**"
   ]
  },
  {
   "cell_type": "markdown",
   "id": "c60d9e56-1df0-4fed-b587-bce4bff31bd4",
   "metadata": {},
   "source": [
    "## 9. Zadatak\n",
    "\n",
    "Za algoritam k-NN, navedite kako izabrati k u praksi."
   ]
  },
  {
   "cell_type": "markdown",
   "id": "44b369f5-1623-4279-9c80-e38dc34a9256",
   "metadata": {},
   "source": [
    "**Odgovor:**"
   ]
  },
  {
   "cell_type": "markdown",
   "id": "ee860b78-641f-4551-838b-f6d8471a9963",
   "metadata": {},
   "source": [
    "## 10. Zadatak\n",
    "\n",
    "Navedite koja svojstva funkcija mora zadovoljavati da bude mjera udaljenosti."
   ]
  },
  {
   "cell_type": "markdown",
   "id": "ef277df7-3ac8-4356-849c-43ffc9e0c606",
   "metadata": {},
   "source": [
    "**Odgovor:**"
   ]
  },
  {
   "cell_type": "markdown",
   "id": "08e8c334-5df3-447d-b9f9-e52518e78320",
   "metadata": {},
   "source": [
    "## 11. Zadatak\n",
    "\n",
    "Navedite barem dva slučaja kada biste primijenili umjetno povećavanje broja\n",
    "primjera u skupu podataka."
   ]
  },
  {
   "cell_type": "markdown",
   "id": "52c67b35-2ca7-4fbc-ba1b-5b20a1897db3",
   "metadata": {},
   "source": [
    "**Odgovor:**"
   ]
  }
 ],
 "metadata": {
  "kernelspec": {
   "display_name": "Python 3 (ipykernel)",
   "language": "python",
   "name": "python3"
  },
  "language_info": {
   "codemirror_mode": {
    "name": "ipython",
    "version": 3
   },
   "file_extension": ".py",
   "mimetype": "text/x-python",
   "name": "python",
   "nbconvert_exporter": "python",
   "pygments_lexer": "ipython3",
   "version": "3.13.1"
  }
 },
 "nbformat": 4,
 "nbformat_minor": 5
}
